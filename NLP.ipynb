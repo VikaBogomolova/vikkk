{
  "nbformat": 4,
  "nbformat_minor": 0,
  "metadata": {
    "colab": {
      "provenance": []
    },
    "kernelspec": {
      "name": "python3",
      "display_name": "Python 3"
    },
    "language_info": {
      "name": "python"
    }
  },
  "cells": [
    {
      "cell_type": "code",
      "execution_count": null,
      "metadata": {
        "id": "fcuX19ToDy31"
      },
      "outputs": [],
      "source": [
        "import pandas as pd\n",
        "import numpy as np\n",
        "import sklearn\n",
        "from sklearn.feature_extraction.text import CountVectorizer\n",
        "from nltk.corpus import stopwords\n",
        "import nltk\n",
        "import re\n",
        "nltk.download(\"stopwords\")\n",
        "nltk.download('wordnet')\n",
        "from sklearn.linear_model import LogisticRegression\n",
        "from sklearn.model_selection import train_test_split\n",
        "nltk.download('omw-1.4')"
      ]
    },
    {
      "cell_type": "code",
      "source": [
        "df = pd.read_csv(NLP.csv')\n",
        "df"
      ],
      "metadata": {
        "id": "W7yS5TUAEXuo"
      },
      "execution_count": null,
      "outputs": []
    },
    {
      "cell_type": "code",
      "source": [
        "def get_lemmatized_text(corpus):\n",
        "    from nltk.stem import WordNetLemmatizer\n",
        "    lemmatizer = WordNetLemmatizer()\n",
        "    return [' '.join([lemmatizer.lemmatize(word) for word in review.split()]) for review in corpus]\n",
        "\n",
        "df['review'] = get_lemmatized_text(df['review'])\n",
        "df"
      ],
      "metadata": {
        "id": "mxG-dPGKEXxD"
      },
      "execution_count": null,
      "outputs": []
    },
    {
      "cell_type": "code",
      "source": [
        "html_pattern = re.compile('<.*?>')\n",
        "df['review'] = df['review'].replace(html_pattern, '')\n",
        "df"
      ],
      "metadata": {
        "id": "LMWV4O46EXzf"
      },
      "execution_count": null,
      "outputs": []
    },
    {
      "cell_type": "code",
      "source": [
        "df['review'] = df['review'].str.replace('''[\"\\((.*)\\)']''', '', regex=True)\n",
        "df"
      ],
      "metadata": {
        "id": "Wr0odt_KEX1r"
      },
      "execution_count": null,
      "outputs": []
    },
    {
      "cell_type": "code",
      "source": [
        "df['review'] = df['review'].str.replace('[0-9]', '', regex=True)\n",
        "df"
      ],
      "metadata": {
        "id": "ml7tJZqCEX4B"
      },
      "execution_count": null,
      "outputs": []
    },
    {
      "cell_type": "code",
      "source": [
        "df['review'] = df['review'].apply(lambda x: x.lower())\n",
        "df"
      ],
      "metadata": {
        "id": "Jaae0u46EX5_"
      },
      "execution_count": null,
      "outputs": []
    },
    {
      "cell_type": "code",
      "source": [
        "count = CountVectorizer(stop_words=\"english\")\n",
        "matrix = count.fit_transform(list(df['review']))\n",
        "print(matrix)"
      ],
      "metadata": {
        "id": "6ZMBFbI7EX8n"
      },
      "execution_count": null,
      "outputs": []
    },
    {
      "cell_type": "code",
      "source": [
        "from sklearn.preprocessing import LabelEncoder\n",
        "labelencoder = LabelEncoder()\n",
        "df['sent'] = labelencoder.fit_transform(df['sentiment'])\n",
        "df"
      ],
      "metadata": {
        "id": "EOeDtOpyEX-q"
      },
      "execution_count": null,
      "outputs": []
    },
    {
      "cell_type": "code",
      "source": [
        "df.drop('sentiment', axis=1)"
      ],
      "metadata": {
        "id": "clydITLdE1-S"
      },
      "execution_count": null,
      "outputs": []
    },
    {
      "cell_type": "code",
      "source": [
        "x = matrix\n",
        "y = df['sent']\n",
        "x_train, x_test, y_train, y_test = train_test_split(x,\n",
        "                                                    y, test_size=0.2, random_state=10)"
      ],
      "metadata": {
        "id": "tl3AoUQcE2Az"
      },
      "execution_count": null,
      "outputs": []
    },
    {
      "cell_type": "code",
      "source": [
        "lr = LogisticRegression()\n",
        "lr.fit(x_train, y_train)\n",
        "lr1 =lr.predict(x_train) "
      ],
      "metadata": {
        "id": "7GEk1VbGE2C7"
      },
      "execution_count": null,
      "outputs": []
    },
    {
      "cell_type": "code",
      "source": [
        "print(list(lr1))"
      ],
      "metadata": {
        "id": "-3riSzMBE2FE"
      },
      "execution_count": null,
      "outputs": []
    },
    {
      "cell_type": "code",
      "source": [
        "from sklearn.metrics import accuracy_score\n",
        "q = accuracy_score(lr1, y_train)\n",
        "q"
      ],
      "metadata": {
        "id": "gpFqjiQqE2HM"
      },
      "execution_count": null,
      "outputs": []
    },
    {
      "cell_type": "code",
      "source": [
        "df1 = pd.read_csv(r'IMDB_Dataset.csv')"
      ],
      "metadata": {
        "id": "m5kYywoyE2Jc"
      },
      "execution_count": null,
      "outputs": []
    },
    {
      "cell_type": "code",
      "source": [
        "count1 = CountVectorizer()\n",
        "matrix1 = count1.fit_transform(list(df1['review']))\n",
        "print(matrix1)"
      ],
      "metadata": {
        "id": "GBzt7ZthFEvv"
      },
      "execution_count": null,
      "outputs": []
    },
    {
      "cell_type": "code",
      "source": [
        "labelencoder1 = LabelEncoder()\n",
        "df1['sent'] = labelencoder1.fit_transform(df1['sentiment'])\n",
        "df1"
      ],
      "metadata": {
        "id": "jVE3DO_9FEyM"
      },
      "execution_count": null,
      "outputs": []
    },
    {
      "cell_type": "code",
      "source": [
        "df1.drop('sentiment', axis=1)"
      ],
      "metadata": {
        "id": "VuLLQ4ldFE0k"
      },
      "execution_count": null,
      "outputs": []
    },
    {
      "cell_type": "code",
      "source": [
        "x1 = matrix1\n",
        "y1 = df1['sent']\n",
        "x1_train, x1_test, y1_train, y1_test = train_test_split(x1,\n",
        "                                                    y1, test_size=0.2, random_state=10)"
      ],
      "metadata": {
        "id": "ZVFIoMVfFE24"
      },
      "execution_count": null,
      "outputs": []
    },
    {
      "cell_type": "code",
      "source": [
        "lr2 = LogisticRegression()\n",
        "lr2.fit(x1_train, y1_train)\n",
        "lr2 =lr2.predict(x1_train) "
      ],
      "metadata": {
        "id": "8e1-wyB7FE5Q"
      },
      "execution_count": null,
      "outputs": []
    },
    {
      "cell_type": "code",
      "source": [
        "q1 = accuracy_score(lr2, y1_train)\n",
        "print(q1)\n",
        "print(q)"
      ],
      "metadata": {
        "id": "fl0RT8WnFE7W"
      },
      "execution_count": null,
      "outputs": []
    },
    {
      "cell_type": "code",
      "source": [],
      "metadata": {
        "id": "3W1iEu7-FE9q"
      },
      "execution_count": null,
      "outputs": []
    }
  ]
}